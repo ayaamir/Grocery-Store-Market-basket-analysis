{
 "cells": [
  {
   "cell_type": "markdown",
   "metadata": {},
   "source": [
    "## Importing Libraries"
   ]
  },
  {
   "cell_type": "code",
   "execution_count": 1,
   "metadata": {},
   "outputs": [],
   "source": [
    "import numpy as np\n",
    "import pandas as pd\n",
    "import matplotlib.pyplot as plt\n",
    "import seaborn as sns\n",
    "%matplotlib inline"
   ]
  },
  {
   "cell_type": "markdown",
   "metadata": {},
   "source": [
    "## Loading Data"
   ]
  },
  {
   "cell_type": "code",
   "execution_count": 2,
   "metadata": {},
   "outputs": [
    {
     "data": {
      "text/html": [
       "<div>\n",
       "<style scoped>\n",
       "    .dataframe tbody tr th:only-of-type {\n",
       "        vertical-align: middle;\n",
       "    }\n",
       "\n",
       "    .dataframe tbody tr th {\n",
       "        vertical-align: top;\n",
       "    }\n",
       "\n",
       "    .dataframe thead th {\n",
       "        text-align: right;\n",
       "    }\n",
       "</style>\n",
       "<table border=\"1\" class=\"dataframe\">\n",
       "  <thead>\n",
       "    <tr style=\"text-align: right;\">\n",
       "      <th></th>\n",
       "      <th>transaction</th>\n",
       "    </tr>\n",
       "  </thead>\n",
       "  <tbody>\n",
       "    <tr>\n",
       "      <th>0</th>\n",
       "      <td>MILK,BREAD,BISCUIT</td>\n",
       "    </tr>\n",
       "    <tr>\n",
       "      <th>1</th>\n",
       "      <td>BREAD,MILK,BISCUIT,CORNFLAKES</td>\n",
       "    </tr>\n",
       "    <tr>\n",
       "      <th>2</th>\n",
       "      <td>BREAD,TEA,BOURNVITA</td>\n",
       "    </tr>\n",
       "    <tr>\n",
       "      <th>3</th>\n",
       "      <td>JAM,MAGGI,BREAD,MILK</td>\n",
       "    </tr>\n",
       "    <tr>\n",
       "      <th>4</th>\n",
       "      <td>MAGGI,TEA,BISCUIT</td>\n",
       "    </tr>\n",
       "  </tbody>\n",
       "</table>\n",
       "</div>"
      ],
      "text/plain": [
       "                     transaction\n",
       "0             MILK,BREAD,BISCUIT\n",
       "1  BREAD,MILK,BISCUIT,CORNFLAKES\n",
       "2            BREAD,TEA,BOURNVITA\n",
       "3           JAM,MAGGI,BREAD,MILK\n",
       "4              MAGGI,TEA,BISCUIT"
      ]
     },
     "execution_count": 2,
     "metadata": {},
     "output_type": "execute_result"
    }
   ],
   "source": [
    "#load transactions from pandas \n",
    "grocery = pd.read_csv(\"datasets/GroceryStoreDataSet.csv\",names = ['transaction'])\n",
    "\n",
    "#print the header\n",
    "grocery.head()"
   ]
  },
  {
   "cell_type": "markdown",
   "metadata": {},
   "source": [
    "## Data Preprocessing"
   ]
  },
  {
   "cell_type": "code",
   "execution_count": null,
   "metadata": {},
   "outputs": [],
   "source": []
  },
  {
   "cell_type": "code",
   "execution_count": 3,
   "metadata": {},
   "outputs": [],
   "source": [
    "#spliting transaction strings into lists (pandas series)\n",
    "#convert Datafram into lists of strings\n",
    "transactions = list(grocery['transaction'].apply(lambda t:t.split(',')))\n"
   ]
  },
  {
   "cell_type": "markdown",
   "metadata": {},
   "source": [
    "## generating rules with itertools"
   ]
  },
  {
   "cell_type": "code",
   "execution_count": 4,
   "metadata": {},
   "outputs": [
    {
     "data": {
      "text/plain": [
       "['SUGER',\n",
       " 'MILK',\n",
       " 'COFFEE',\n",
       " 'BREAD',\n",
       " 'BOURNVITA',\n",
       " 'CORNFLAKES',\n",
       " 'MAGGI',\n",
       " 'COCK',\n",
       " 'JAM',\n",
       " 'TEA',\n",
       " 'BISCUIT']"
      ]
     },
     "execution_count": 4,
     "metadata": {},
     "output_type": "execute_result"
    }
   ],
   "source": [
    "from itertools import permutations\n",
    "\n",
    "#Extract unique items\n",
    "flattened = [item for transaction in transactions for item in transaction]\n",
    "items = list (set(flattened))\n",
    "items[:]"
   ]
  },
  {
   "cell_type": "code",
   "execution_count": 13,
   "metadata": {},
   "outputs": [
    {
     "data": {
      "text/plain": [
       "[('SUGER', 'MAGGI'),\n",
       " ('SUGER', 'TEA'),\n",
       " ('SUGER', 'BISCUIT'),\n",
       " ('SUGER', 'CORNFLAKES'),\n",
       " ('SUGER', 'BREAD'),\n",
       " ('SUGER', 'COCK'),\n",
       " ('SUGER', 'MILK'),\n",
       " ('SUGER', 'COFFEE'),\n",
       " ('SUGER', 'JAM'),\n",
       " ('SUGER', 'BOURNVITA'),\n",
       " ('MAGGI', 'SUGER'),\n",
       " ('MAGGI', 'TEA'),\n",
       " ('MAGGI', 'BISCUIT'),\n",
       " ('MAGGI', 'CORNFLAKES'),\n",
       " ('MAGGI', 'BREAD'),\n",
       " ('MAGGI', 'COCK'),\n",
       " ('MAGGI', 'MILK'),\n",
       " ('MAGGI', 'COFFEE'),\n",
       " ('MAGGI', 'JAM'),\n",
       " ('MAGGI', 'BOURNVITA'),\n",
       " ('TEA', 'SUGER'),\n",
       " ('TEA', 'MAGGI'),\n",
       " ('TEA', 'BISCUIT'),\n",
       " ('TEA', 'CORNFLAKES'),\n",
       " ('TEA', 'BREAD'),\n",
       " ('TEA', 'COCK'),\n",
       " ('TEA', 'MILK'),\n",
       " ('TEA', 'COFFEE'),\n",
       " ('TEA', 'JAM'),\n",
       " ('TEA', 'BOURNVITA'),\n",
       " ('BISCUIT', 'SUGER'),\n",
       " ('BISCUIT', 'MAGGI'),\n",
       " ('BISCUIT', 'TEA'),\n",
       " ('BISCUIT', 'CORNFLAKES'),\n",
       " ('BISCUIT', 'BREAD'),\n",
       " ('BISCUIT', 'COCK'),\n",
       " ('BISCUIT', 'MILK'),\n",
       " ('BISCUIT', 'COFFEE'),\n",
       " ('BISCUIT', 'JAM'),\n",
       " ('BISCUIT', 'BOURNVITA'),\n",
       " ('CORNFLAKES', 'SUGER'),\n",
       " ('CORNFLAKES', 'MAGGI'),\n",
       " ('CORNFLAKES', 'TEA'),\n",
       " ('CORNFLAKES', 'BISCUIT'),\n",
       " ('CORNFLAKES', 'BREAD'),\n",
       " ('CORNFLAKES', 'COCK'),\n",
       " ('CORNFLAKES', 'MILK'),\n",
       " ('CORNFLAKES', 'COFFEE'),\n",
       " ('CORNFLAKES', 'JAM'),\n",
       " ('CORNFLAKES', 'BOURNVITA'),\n",
       " ('BREAD', 'SUGER'),\n",
       " ('BREAD', 'MAGGI'),\n",
       " ('BREAD', 'TEA'),\n",
       " ('BREAD', 'BISCUIT'),\n",
       " ('BREAD', 'CORNFLAKES'),\n",
       " ('BREAD', 'COCK'),\n",
       " ('BREAD', 'MILK'),\n",
       " ('BREAD', 'COFFEE'),\n",
       " ('BREAD', 'JAM'),\n",
       " ('BREAD', 'BOURNVITA'),\n",
       " ('COCK', 'SUGER'),\n",
       " ('COCK', 'MAGGI'),\n",
       " ('COCK', 'TEA'),\n",
       " ('COCK', 'BISCUIT'),\n",
       " ('COCK', 'CORNFLAKES'),\n",
       " ('COCK', 'BREAD'),\n",
       " ('COCK', 'MILK'),\n",
       " ('COCK', 'COFFEE'),\n",
       " ('COCK', 'JAM'),\n",
       " ('COCK', 'BOURNVITA'),\n",
       " ('MILK', 'SUGER'),\n",
       " ('MILK', 'MAGGI'),\n",
       " ('MILK', 'TEA'),\n",
       " ('MILK', 'BISCUIT'),\n",
       " ('MILK', 'CORNFLAKES'),\n",
       " ('MILK', 'BREAD'),\n",
       " ('MILK', 'COCK'),\n",
       " ('MILK', 'COFFEE'),\n",
       " ('MILK', 'JAM'),\n",
       " ('MILK', 'BOURNVITA'),\n",
       " ('COFFEE', 'SUGER'),\n",
       " ('COFFEE', 'MAGGI'),\n",
       " ('COFFEE', 'TEA'),\n",
       " ('COFFEE', 'BISCUIT'),\n",
       " ('COFFEE', 'CORNFLAKES'),\n",
       " ('COFFEE', 'BREAD'),\n",
       " ('COFFEE', 'COCK'),\n",
       " ('COFFEE', 'MILK'),\n",
       " ('COFFEE', 'JAM'),\n",
       " ('COFFEE', 'BOURNVITA'),\n",
       " ('JAM', 'SUGER'),\n",
       " ('JAM', 'MAGGI'),\n",
       " ('JAM', 'TEA'),\n",
       " ('JAM', 'BISCUIT'),\n",
       " ('JAM', 'CORNFLAKES'),\n",
       " ('JAM', 'BREAD'),\n",
       " ('JAM', 'COCK'),\n",
       " ('JAM', 'MILK'),\n",
       " ('JAM', 'COFFEE'),\n",
       " ('JAM', 'BOURNVITA'),\n",
       " ('BOURNVITA', 'SUGER'),\n",
       " ('BOURNVITA', 'MAGGI'),\n",
       " ('BOURNVITA', 'TEA'),\n",
       " ('BOURNVITA', 'BISCUIT'),\n",
       " ('BOURNVITA', 'CORNFLAKES'),\n",
       " ('BOURNVITA', 'BREAD'),\n",
       " ('BOURNVITA', 'COCK'),\n",
       " ('BOURNVITA', 'MILK'),\n",
       " ('BOURNVITA', 'COFFEE'),\n",
       " ('BOURNVITA', 'JAM')]"
      ]
     },
     "execution_count": 13,
     "metadata": {},
     "output_type": "execute_result"
    }
   ],
   "source": [
    "#compute and print rules\n",
    "rules = list(permutations(items,2))\n",
    "rules"
   ]
  },
  {
   "cell_type": "code",
   "execution_count": 14,
   "metadata": {},
   "outputs": [
    {
     "data": {
      "text/plain": [
       "110"
      ]
     },
     "execution_count": 14,
     "metadata": {},
     "output_type": "execute_result"
    }
   ],
   "source": [
    "#print the number of rules\n",
    "len(rules)"
   ]
  },
  {
   "cell_type": "markdown",
   "metadata": {},
   "source": [
    "## Installing mlxtend "
   ]
  },
  {
   "cell_type": "code",
   "execution_count": 5,
   "metadata": {},
   "outputs": [
    {
     "name": "stdout",
     "output_type": "stream",
     "text": [
      "Requirement already satisfied: mlxtend in c:\\users\\hp\\anaconda3\\lib\\site-packages (0.22.0)\n",
      "Requirement already satisfied: setuptools in c:\\users\\hp\\anaconda3\\lib\\site-packages (from mlxtend) (50.3.1.post20201107)\n",
      "Requirement already satisfied: scipy>=1.2.1 in c:\\users\\hp\\anaconda3\\lib\\site-packages (from mlxtend) (1.5.2)\n",
      "Requirement already satisfied: joblib>=0.13.2 in c:\\users\\hp\\anaconda3\\lib\\site-packages (from mlxtend) (0.17.0)\n",
      "Requirement already satisfied: numpy>=1.16.2 in c:\\users\\hp\\anaconda3\\lib\\site-packages (from mlxtend) (1.19.2)\n",
      "Requirement already satisfied: pandas>=0.24.2 in c:\\users\\hp\\anaconda3\\lib\\site-packages (from mlxtend) (1.1.3)\n",
      "Requirement already satisfied: scikit-learn>=1.0.2 in c:\\users\\hp\\anaconda3\\lib\\site-packages (from mlxtend) (1.2.2)\n",
      "Requirement already satisfied: matplotlib>=3.0.0 in c:\\users\\hp\\anaconda3\\lib\\site-packages (from mlxtend) (3.3.2)\n",
      "Requirement already satisfied: python-dateutil>=2.7.3 in c:\\users\\hp\\anaconda3\\lib\\site-packages (from pandas>=0.24.2->mlxtend) (2.8.1)\n",
      "Requirement already satisfied: pytz>=2017.2 in c:\\users\\hp\\anaconda3\\lib\\site-packages (from pandas>=0.24.2->mlxtend) (2020.1)\n",
      "Requirement already satisfied: threadpoolctl>=2.0.0 in c:\\users\\hp\\anaconda3\\lib\\site-packages (from scikit-learn>=1.0.2->mlxtend) (2.1.0)\n",
      "Requirement already satisfied: certifi>=2020.06.20 in c:\\users\\hp\\anaconda3\\lib\\site-packages (from matplotlib>=3.0.0->mlxtend) (2020.6.20)\n",
      "Requirement already satisfied: pillow>=6.2.0 in c:\\users\\hp\\anaconda3\\lib\\site-packages (from matplotlib>=3.0.0->mlxtend) (8.0.1)\n",
      "Requirement already satisfied: kiwisolver>=1.0.1 in c:\\users\\hp\\anaconda3\\lib\\site-packages (from matplotlib>=3.0.0->mlxtend) (1.3.0)\n",
      "Requirement already satisfied: cycler>=0.10 in c:\\users\\hp\\anaconda3\\lib\\site-packages (from matplotlib>=3.0.0->mlxtend) (0.10.0)\n",
      "Requirement already satisfied: pyparsing!=2.0.4,!=2.1.2,!=2.1.6,>=2.0.3 in c:\\users\\hp\\anaconda3\\lib\\site-packages (from matplotlib>=3.0.0->mlxtend) (2.4.7)\n",
      "Requirement already satisfied: six>=1.5 in c:\\users\\hp\\anaconda3\\lib\\site-packages (from python-dateutil>=2.7.3->pandas>=0.24.2->mlxtend) (1.15.0)\n",
      "Note: you may need to restart the kernel to use updated packages.\n"
     ]
    }
   ],
   "source": [
    "pip install mlxtend  \n"
   ]
  },
  {
   "cell_type": "markdown",
   "metadata": {},
   "source": [
    "## Preparing the data to creat one-hot DataFrame"
   ]
  },
  {
   "cell_type": "code",
   "execution_count": 6,
   "metadata": {},
   "outputs": [],
   "source": [
    "from mlxtend.preprocessing import TransactionEncoder"
   ]
  },
  {
   "cell_type": "code",
   "execution_count": 7,
   "metadata": {},
   "outputs": [],
   "source": [
    "# Instantiate transaction encoder and identify unique items in transactions\n",
    "encoder = TransactionEncoder().fit(transactions)"
   ]
  },
  {
   "cell_type": "code",
   "execution_count": 9,
   "metadata": {},
   "outputs": [],
   "source": [
    "# One-hot encode itemsets by applying fit and transform\n",
    "onehot = encoder.transform(transactions)\n"
   ]
  },
  {
   "cell_type": "code",
   "execution_count": 10,
   "metadata": {
    "scrolled": true
   },
   "outputs": [
    {
     "name": "stdout",
     "output_type": "stream",
     "text": [
      "    BISCUIT  BOURNVITA  BREAD   COCK  COFFEE  CORNFLAKES    JAM  MAGGI   MILK  \\\n",
      "0      True      False   True  False   False       False  False  False   True   \n",
      "1      True      False   True  False   False        True  False  False   True   \n",
      "2     False       True   True  False   False       False  False  False  False   \n",
      "3     False      False   True  False   False       False   True   True   True   \n",
      "4      True      False  False  False   False       False  False   True  False   \n",
      "5     False       True   True  False   False       False  False  False  False   \n",
      "6     False      False  False  False   False        True  False   True  False   \n",
      "7      True      False   True  False   False       False  False   True  False   \n",
      "8     False      False   True  False   False       False   True   True  False   \n",
      "9     False      False   True  False   False       False  False  False   True   \n",
      "10     True      False  False   True    True        True  False  False  False   \n",
      "11     True      False  False   True    True        True  False  False  False   \n",
      "12    False       True  False  False    True       False  False  False  False   \n",
      "13    False      False   True   True    True       False  False  False  False   \n",
      "14     True      False   True  False   False       False  False  False  False   \n",
      "15    False      False  False  False    True        True  False  False  False   \n",
      "16    False       True   True  False   False       False  False  False  False   \n",
      "17    False      False   True  False    True       False  False  False  False   \n",
      "18    False      False   True  False    True       False  False  False  False   \n",
      "19    False      False  False  False    True        True  False  False   True   \n",
      "\n",
      "    SUGER    TEA  \n",
      "0   False  False  \n",
      "1   False  False  \n",
      "2   False   True  \n",
      "3   False  False  \n",
      "4   False   True  \n",
      "5   False   True  \n",
      "6   False   True  \n",
      "7   False   True  \n",
      "8   False   True  \n",
      "9   False  False  \n",
      "10  False  False  \n",
      "11  False  False  \n",
      "12   True  False  \n",
      "13  False  False  \n",
      "14   True  False  \n",
      "15   True  False  \n",
      "16   True  False  \n",
      "17   True  False  \n",
      "18   True  False  \n",
      "19  False   True  \n"
     ]
    }
   ],
   "source": [
    "# Convert one-hot encoded data to DataFrame\n",
    "onehot = pd.DataFrame(onehot, columns = encoder.columns_)\n",
    "print(onehot)"
   ]
  },
  {
   "cell_type": "markdown",
   "metadata": {},
   "source": [
    "This is our desired format, one-hot. The columns are items in the store and each row represents a transaction. If the value is True, that item is sold in that transaction. Now, the data is ready to be fed to the algorithm."
   ]
  },
  {
   "cell_type": "markdown",
   "metadata": {},
   "source": [
    "## Find the frequent itemsets using Apriori"
   ]
  },
  {
   "cell_type": "markdown",
   "metadata": {},
   "source": [
    "We will use Apriori to find the frequent itemsets from the one-hot transaction DataFrame. This step's objective is to decrease the computational workload in the association rule.\n",
    "\n",
    "Frequent itemsets’ supports are higher than minimum support.\n",
    "The min_support will be adjusted to be equals to 0.2 ."
   ]
  },
  {
   "cell_type": "code",
   "execution_count": 11,
   "metadata": {},
   "outputs": [],
   "source": [
    "from mlxtend.frequent_patterns import apriori, association_rules"
   ]
  },
  {
   "cell_type": "code",
   "execution_count": 12,
   "metadata": {
    "scrolled": true
   },
   "outputs": [
    {
     "name": "stderr",
     "output_type": "stream",
     "text": [
      "C:\\Users\\hp\\anaconda3\\lib\\site-packages\\ipykernel\\ipkernel.py:287: DeprecationWarning: `should_run_async` will not call `transform_cell` automatically in the future. Please pass the result to `transformed_cell` argument and any exception that happen during thetransform in `preprocessing_exc_tuple` in IPython 7.17 and above.\n",
      "  and should_run_async(code)\n"
     ]
    },
    {
     "data": {
      "text/html": [
       "<div>\n",
       "<style scoped>\n",
       "    .dataframe tbody tr th:only-of-type {\n",
       "        vertical-align: middle;\n",
       "    }\n",
       "\n",
       "    .dataframe tbody tr th {\n",
       "        vertical-align: top;\n",
       "    }\n",
       "\n",
       "    .dataframe thead th {\n",
       "        text-align: right;\n",
       "    }\n",
       "</style>\n",
       "<table border=\"1\" class=\"dataframe\">\n",
       "  <thead>\n",
       "    <tr style=\"text-align: right;\">\n",
       "      <th></th>\n",
       "      <th>support</th>\n",
       "      <th>itemsets</th>\n",
       "    </tr>\n",
       "  </thead>\n",
       "  <tbody>\n",
       "    <tr>\n",
       "      <th>2</th>\n",
       "      <td>0.65</td>\n",
       "      <td>(BREAD)</td>\n",
       "    </tr>\n",
       "    <tr>\n",
       "      <th>3</th>\n",
       "      <td>0.40</td>\n",
       "      <td>(COFFEE)</td>\n",
       "    </tr>\n",
       "    <tr>\n",
       "      <th>0</th>\n",
       "      <td>0.35</td>\n",
       "      <td>(BISCUIT)</td>\n",
       "    </tr>\n",
       "    <tr>\n",
       "      <th>8</th>\n",
       "      <td>0.35</td>\n",
       "      <td>(TEA)</td>\n",
       "    </tr>\n",
       "    <tr>\n",
       "      <th>4</th>\n",
       "      <td>0.30</td>\n",
       "      <td>(CORNFLAKES)</td>\n",
       "    </tr>\n",
       "  </tbody>\n",
       "</table>\n",
       "</div>"
      ],
      "text/plain": [
       "   support      itemsets\n",
       "2     0.65       (BREAD)\n",
       "3     0.40      (COFFEE)\n",
       "0     0.35     (BISCUIT)\n",
       "8     0.35         (TEA)\n",
       "4     0.30  (CORNFLAKES)"
      ]
     },
     "execution_count": 12,
     "metadata": {},
     "output_type": "execute_result"
    }
   ],
   "source": [
    "onehot = apriori(onehot, min_support = 0.2, use_colnames = True)\n",
    "onehot.sort_values(['support'],ascending=False, inplace = True)\n",
    "onehot.head()"
   ]
  },
  {
   "cell_type": "markdown",
   "metadata": {},
   "source": [
    "Since we set the min_support to 0.2, only a set of item(s) whose support is greater than 0.2 (or more than 20% from 19 transactions) will be filltered.\n",
    "\n",
    "Only these itemsets which are considered important will proceed to the association rule."
   ]
  },
  {
   "cell_type": "markdown",
   "metadata": {},
   "source": [
    "## Finding the Association rule"
   ]
  },
  {
   "cell_type": "markdown",
   "metadata": {},
   "source": [
    "The association_rules function will automatically calculate key metrics of our transaction data including support, confidence, lift, leverage, and conviction."
   ]
  },
  {
   "cell_type": "code",
   "execution_count": 18,
   "metadata": {},
   "outputs": [
    {
     "name": "stderr",
     "output_type": "stream",
     "text": [
      "C:\\Users\\hp\\anaconda3\\lib\\site-packages\\ipykernel\\ipkernel.py:287: DeprecationWarning: `should_run_async` will not call `transform_cell` automatically in the future. Please pass the result to `transformed_cell` argument and any exception that happen during thetransform in `preprocessing_exc_tuple` in IPython 7.17 and above.\n",
      "  and should_run_async(code)\n"
     ]
    },
    {
     "data": {
      "text/html": [
       "<div>\n",
       "<style scoped>\n",
       "    .dataframe tbody tr th:only-of-type {\n",
       "        vertical-align: middle;\n",
       "    }\n",
       "\n",
       "    .dataframe tbody tr th {\n",
       "        vertical-align: top;\n",
       "    }\n",
       "\n",
       "    .dataframe thead th {\n",
       "        text-align: right;\n",
       "    }\n",
       "</style>\n",
       "<table border=\"1\" class=\"dataframe\">\n",
       "  <thead>\n",
       "    <tr style=\"text-align: right;\">\n",
       "      <th></th>\n",
       "      <th>antecedents</th>\n",
       "      <th>consequents</th>\n",
       "      <th>antecedent support</th>\n",
       "      <th>consequent support</th>\n",
       "      <th>support</th>\n",
       "      <th>confidence</th>\n",
       "      <th>lift</th>\n",
       "      <th>leverage</th>\n",
       "      <th>conviction</th>\n",
       "      <th>zhangs_metric</th>\n",
       "    </tr>\n",
       "  </thead>\n",
       "  <tbody>\n",
       "    <tr>\n",
       "      <th>0</th>\n",
       "      <td>(MILK)</td>\n",
       "      <td>(BREAD)</td>\n",
       "      <td>0.25</td>\n",
       "      <td>0.65</td>\n",
       "      <td>0.2</td>\n",
       "      <td>0.800000</td>\n",
       "      <td>1.230769</td>\n",
       "      <td>0.0375</td>\n",
       "      <td>1.750000</td>\n",
       "      <td>0.250000</td>\n",
       "    </tr>\n",
       "    <tr>\n",
       "      <th>1</th>\n",
       "      <td>(BREAD)</td>\n",
       "      <td>(MILK)</td>\n",
       "      <td>0.65</td>\n",
       "      <td>0.25</td>\n",
       "      <td>0.2</td>\n",
       "      <td>0.307692</td>\n",
       "      <td>1.230769</td>\n",
       "      <td>0.0375</td>\n",
       "      <td>1.083333</td>\n",
       "      <td>0.535714</td>\n",
       "    </tr>\n",
       "    <tr>\n",
       "      <th>2</th>\n",
       "      <td>(SUGER)</td>\n",
       "      <td>(BREAD)</td>\n",
       "      <td>0.30</td>\n",
       "      <td>0.65</td>\n",
       "      <td>0.2</td>\n",
       "      <td>0.666667</td>\n",
       "      <td>1.025641</td>\n",
       "      <td>0.0050</td>\n",
       "      <td>1.050000</td>\n",
       "      <td>0.035714</td>\n",
       "    </tr>\n",
       "    <tr>\n",
       "      <th>3</th>\n",
       "      <td>(BREAD)</td>\n",
       "      <td>(SUGER)</td>\n",
       "      <td>0.65</td>\n",
       "      <td>0.30</td>\n",
       "      <td>0.2</td>\n",
       "      <td>0.307692</td>\n",
       "      <td>1.025641</td>\n",
       "      <td>0.0050</td>\n",
       "      <td>1.011111</td>\n",
       "      <td>0.071429</td>\n",
       "    </tr>\n",
       "    <tr>\n",
       "      <th>4</th>\n",
       "      <td>(CORNFLAKES)</td>\n",
       "      <td>(COFFEE)</td>\n",
       "      <td>0.30</td>\n",
       "      <td>0.40</td>\n",
       "      <td>0.2</td>\n",
       "      <td>0.666667</td>\n",
       "      <td>1.666667</td>\n",
       "      <td>0.0800</td>\n",
       "      <td>1.800000</td>\n",
       "      <td>0.571429</td>\n",
       "    </tr>\n",
       "    <tr>\n",
       "      <th>5</th>\n",
       "      <td>(COFFEE)</td>\n",
       "      <td>(CORNFLAKES)</td>\n",
       "      <td>0.40</td>\n",
       "      <td>0.30</td>\n",
       "      <td>0.2</td>\n",
       "      <td>0.500000</td>\n",
       "      <td>1.666667</td>\n",
       "      <td>0.0800</td>\n",
       "      <td>1.400000</td>\n",
       "      <td>0.666667</td>\n",
       "    </tr>\n",
       "    <tr>\n",
       "      <th>6</th>\n",
       "      <td>(SUGER)</td>\n",
       "      <td>(COFFEE)</td>\n",
       "      <td>0.30</td>\n",
       "      <td>0.40</td>\n",
       "      <td>0.2</td>\n",
       "      <td>0.666667</td>\n",
       "      <td>1.666667</td>\n",
       "      <td>0.0800</td>\n",
       "      <td>1.800000</td>\n",
       "      <td>0.571429</td>\n",
       "    </tr>\n",
       "    <tr>\n",
       "      <th>7</th>\n",
       "      <td>(COFFEE)</td>\n",
       "      <td>(SUGER)</td>\n",
       "      <td>0.40</td>\n",
       "      <td>0.30</td>\n",
       "      <td>0.2</td>\n",
       "      <td>0.500000</td>\n",
       "      <td>1.666667</td>\n",
       "      <td>0.0800</td>\n",
       "      <td>1.400000</td>\n",
       "      <td>0.666667</td>\n",
       "    </tr>\n",
       "    <tr>\n",
       "      <th>8</th>\n",
       "      <td>(TEA)</td>\n",
       "      <td>(MAGGI)</td>\n",
       "      <td>0.35</td>\n",
       "      <td>0.25</td>\n",
       "      <td>0.2</td>\n",
       "      <td>0.571429</td>\n",
       "      <td>2.285714</td>\n",
       "      <td>0.1125</td>\n",
       "      <td>1.750000</td>\n",
       "      <td>0.865385</td>\n",
       "    </tr>\n",
       "    <tr>\n",
       "      <th>9</th>\n",
       "      <td>(MAGGI)</td>\n",
       "      <td>(TEA)</td>\n",
       "      <td>0.25</td>\n",
       "      <td>0.35</td>\n",
       "      <td>0.2</td>\n",
       "      <td>0.800000</td>\n",
       "      <td>2.285714</td>\n",
       "      <td>0.1125</td>\n",
       "      <td>3.250000</td>\n",
       "      <td>0.750000</td>\n",
       "    </tr>\n",
       "  </tbody>\n",
       "</table>\n",
       "</div>"
      ],
      "text/plain": [
       "    antecedents   consequents  antecedent support  consequent support  \\\n",
       "0        (MILK)       (BREAD)                0.25                0.65   \n",
       "1       (BREAD)        (MILK)                0.65                0.25   \n",
       "2       (SUGER)       (BREAD)                0.30                0.65   \n",
       "3       (BREAD)       (SUGER)                0.65                0.30   \n",
       "4  (CORNFLAKES)      (COFFEE)                0.30                0.40   \n",
       "5      (COFFEE)  (CORNFLAKES)                0.40                0.30   \n",
       "6       (SUGER)      (COFFEE)                0.30                0.40   \n",
       "7      (COFFEE)       (SUGER)                0.40                0.30   \n",
       "8         (TEA)       (MAGGI)                0.35                0.25   \n",
       "9       (MAGGI)         (TEA)                0.25                0.35   \n",
       "\n",
       "   support  confidence      lift  leverage  conviction  zhangs_metric  \n",
       "0      0.2    0.800000  1.230769    0.0375    1.750000       0.250000  \n",
       "1      0.2    0.307692  1.230769    0.0375    1.083333       0.535714  \n",
       "2      0.2    0.666667  1.025641    0.0050    1.050000       0.035714  \n",
       "3      0.2    0.307692  1.025641    0.0050    1.011111       0.071429  \n",
       "4      0.2    0.666667  1.666667    0.0800    1.800000       0.571429  \n",
       "5      0.2    0.500000  1.666667    0.0800    1.400000       0.666667  \n",
       "6      0.2    0.666667  1.666667    0.0800    1.800000       0.571429  \n",
       "7      0.2    0.500000  1.666667    0.0800    1.400000       0.666667  \n",
       "8      0.2    0.571429  2.285714    0.1125    1.750000       0.865385  \n",
       "9      0.2    0.800000  2.285714    0.1125    3.250000       0.750000  "
      ]
     },
     "execution_count": 18,
     "metadata": {},
     "output_type": "execute_result"
    }
   ],
   "source": [
    "grocery_ar = association_rules(onehot, metric=\"lift\", min_threshold=1)\n",
    "grocery_ar.head(10)"
   ]
  },
  {
   "cell_type": "markdown",
   "metadata": {},
   "source": [
    "## Some insights "
   ]
  },
  {
   "cell_type": "markdown",
   "metadata": {},
   "source": [
    "Based on Association rules, we can make some interpretation for further business actions.\n",
    "For Example:\n",
    "\n",
    "- From the highest confidence in index 0, the confidence is 0.8. It means that the customer who buys milk will buy bread for 80%. However, you have to keep in mind that confidence is not everything. The high confidence in this row is due to the high support of bread (consequence support 0.65) which means bread occurs in many transactions, so it will not make a business impact if we try to sell bread with milk anyway.\n",
    "\n",
    "\n",
    "\n",
    "- The better metric is lift or leverage. Index 8 has the highest lift and leverage at 2.28 and 0.1125 respectively. It means that the customers who buy tea are likely to buy Maggi as well."
   ]
  },
  {
   "cell_type": "markdown",
   "metadata": {},
   "source": [
    "#### What we can do after knowing this?\n",
    "\n",
    "1. The shop owner can change shelf layout to sell Maggi far from tea, This will give customers an opportunity to see more products on their way to buy tea, which means the possibility of buying more products.\n",
    "\n",
    "2. Promoting Maggi together with tea."
   ]
  },
  {
   "cell_type": "markdown",
   "metadata": {},
   "source": [
    "#### There is a question that arises here:\n",
    "If the owner wants to do promotions,\n",
    "Should he use Maggi to promote tea, use tea to promote Maggi?\n",
    "\n",
    "We know now that there's a relation between Maggi and tea, but what the best direction of this relationship?\n",
    "\n",
    "(Tea) $\\rightarrow$ (Maggi)   or   (Maggi) $\\rightarrow$ (Tea)\n",
    "\n",
    "Since the confidence has direction so it can help us here.\n",
    "And Based on the table above the confidence of (Maggi) $\\rightarrow$ (Tea) is greater than the confidence of (Tea) $\\rightarrow$ (Maggi) . So the owner should use Maggi to promote tea ."
   ]
  },
  {
   "cell_type": "code",
   "execution_count": null,
   "metadata": {},
   "outputs": [],
   "source": []
  }
 ],
 "metadata": {
  "kernelspec": {
   "display_name": "Python 3",
   "language": "python",
   "name": "python3"
  },
  "language_info": {
   "codemirror_mode": {
    "name": "ipython",
    "version": 3
   },
   "file_extension": ".py",
   "mimetype": "text/x-python",
   "name": "python",
   "nbconvert_exporter": "python",
   "pygments_lexer": "ipython3",
   "version": "3.8.5"
  }
 },
 "nbformat": 4,
 "nbformat_minor": 4
}
